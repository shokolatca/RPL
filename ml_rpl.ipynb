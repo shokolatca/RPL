{
  "nbformat": 4,
  "nbformat_minor": 0,
  "metadata": {
    "colab": {
      "provenance": []
    },
    "kernelspec": {
      "name": "python3",
      "display_name": "Python 3"
    },
    "language_info": {
      "name": "python"
    }
  },
  "cells": [
    {
      "cell_type": "code",
      "execution_count": 3,
      "metadata": {
        "id": "CkB9TDMspTNg"
      },
      "outputs": [],
      "source": [
        "import pandas as pd"
      ]
    },
    {
      "cell_type": "code",
      "source": [
        "df = pd.read_csv('final_rpl.csv', sep=';', index_col = 0)\n",
        "df.head()"
      ],
      "metadata": {
        "colab": {
          "base_uri": "https://localhost:8080/",
          "height": 359
        },
        "id": "t4hI4f15wR_m",
        "outputId": "f21f4439-7493-4cf0-e75c-f4cfc8f39ea3"
      },
      "execution_count": 4,
      "outputs": [
        {
          "output_type": "execute_result",
          "data": {
            "text/plain": [
              "        Команда_1  Голы_1    Команда_2  Голы_2  xG_1  xG_2  Удары_1  Удары_2  \\\n",
              "0          Ростов       2     Оренбург       1  1.67  1.10     23.0     11.0   \n",
              "1        ПФК Сочи       0        Факел       0  1.21  0.51     22.0      5.0   \n",
              "2           Рубин       1         Урал       1  0.85  1.30      5.0     12.0   \n",
              "3  Крылья Советов       0    Краснодар       0  1.11  0.90     14.0     12.0   \n",
              "4         Балтика       3  ЦСКА Москва       1  1.88  1.14     13.0     18.0   \n",
              "\n",
              "   Удары в створ_1  Удары в створ_2  ...     Время  Кэф_1  Кэф_х  Кэф_2  \\\n",
              "0              7.0              4.0  ...  12:45:00   2.36   3.41   3.34   \n",
              "1              3.0              2.0  ...  10:30:00   2.15   3.18   4.25   \n",
              "2              3.0              4.0  ...  08:15:00   2.59   3.01   3.37   \n",
              "3              6.0              3.0  ...  06:00:00   3.51   3.42   2.28   \n",
              "4              4.0              7.0  ...  14:30:00   2.66   3.41   2.89   \n",
              "\n",
              "   Градусы                 Погода  Зрители  Дома_1  Дома_2  Таргет  \n",
              "0       19  переменная облачность  14680.0       1       0       1  \n",
              "1       15        небольшой дождь   5012.0       1       0       0  \n",
              "2        6  переменная облачность   8178.0       1       0       0  \n",
              "3        6  переменная облачность   9689.0       1       0       0  \n",
              "4       20               солнечно  14046.0       1       0       1  \n",
              "\n",
              "[5 rows x 54 columns]"
            ],
            "text/html": [
              "\n",
              "  <div id=\"df-583bee4f-3c08-4632-a979-b1869855d50b\" class=\"colab-df-container\">\n",
              "    <div>\n",
              "<style scoped>\n",
              "    .dataframe tbody tr th:only-of-type {\n",
              "        vertical-align: middle;\n",
              "    }\n",
              "\n",
              "    .dataframe tbody tr th {\n",
              "        vertical-align: top;\n",
              "    }\n",
              "\n",
              "    .dataframe thead th {\n",
              "        text-align: right;\n",
              "    }\n",
              "</style>\n",
              "<table border=\"1\" class=\"dataframe\">\n",
              "  <thead>\n",
              "    <tr style=\"text-align: right;\">\n",
              "      <th></th>\n",
              "      <th>Команда_1</th>\n",
              "      <th>Голы_1</th>\n",
              "      <th>Команда_2</th>\n",
              "      <th>Голы_2</th>\n",
              "      <th>xG_1</th>\n",
              "      <th>xG_2</th>\n",
              "      <th>Удары_1</th>\n",
              "      <th>Удары_2</th>\n",
              "      <th>Удары в створ_1</th>\n",
              "      <th>Удары в створ_2</th>\n",
              "      <th>...</th>\n",
              "      <th>Время</th>\n",
              "      <th>Кэф_1</th>\n",
              "      <th>Кэф_х</th>\n",
              "      <th>Кэф_2</th>\n",
              "      <th>Градусы</th>\n",
              "      <th>Погода</th>\n",
              "      <th>Зрители</th>\n",
              "      <th>Дома_1</th>\n",
              "      <th>Дома_2</th>\n",
              "      <th>Таргет</th>\n",
              "    </tr>\n",
              "  </thead>\n",
              "  <tbody>\n",
              "    <tr>\n",
              "      <th>0</th>\n",
              "      <td>Ростов</td>\n",
              "      <td>2</td>\n",
              "      <td>Оренбург</td>\n",
              "      <td>1</td>\n",
              "      <td>1.67</td>\n",
              "      <td>1.10</td>\n",
              "      <td>23.0</td>\n",
              "      <td>11.0</td>\n",
              "      <td>7.0</td>\n",
              "      <td>4.0</td>\n",
              "      <td>...</td>\n",
              "      <td>12:45:00</td>\n",
              "      <td>2.36</td>\n",
              "      <td>3.41</td>\n",
              "      <td>3.34</td>\n",
              "      <td>19</td>\n",
              "      <td>переменная облачность</td>\n",
              "      <td>14680.0</td>\n",
              "      <td>1</td>\n",
              "      <td>0</td>\n",
              "      <td>1</td>\n",
              "    </tr>\n",
              "    <tr>\n",
              "      <th>1</th>\n",
              "      <td>ПФК Сочи</td>\n",
              "      <td>0</td>\n",
              "      <td>Факел</td>\n",
              "      <td>0</td>\n",
              "      <td>1.21</td>\n",
              "      <td>0.51</td>\n",
              "      <td>22.0</td>\n",
              "      <td>5.0</td>\n",
              "      <td>3.0</td>\n",
              "      <td>2.0</td>\n",
              "      <td>...</td>\n",
              "      <td>10:30:00</td>\n",
              "      <td>2.15</td>\n",
              "      <td>3.18</td>\n",
              "      <td>4.25</td>\n",
              "      <td>15</td>\n",
              "      <td>небольшой дождь</td>\n",
              "      <td>5012.0</td>\n",
              "      <td>1</td>\n",
              "      <td>0</td>\n",
              "      <td>0</td>\n",
              "    </tr>\n",
              "    <tr>\n",
              "      <th>2</th>\n",
              "      <td>Рубин</td>\n",
              "      <td>1</td>\n",
              "      <td>Урал</td>\n",
              "      <td>1</td>\n",
              "      <td>0.85</td>\n",
              "      <td>1.30</td>\n",
              "      <td>5.0</td>\n",
              "      <td>12.0</td>\n",
              "      <td>3.0</td>\n",
              "      <td>4.0</td>\n",
              "      <td>...</td>\n",
              "      <td>08:15:00</td>\n",
              "      <td>2.59</td>\n",
              "      <td>3.01</td>\n",
              "      <td>3.37</td>\n",
              "      <td>6</td>\n",
              "      <td>переменная облачность</td>\n",
              "      <td>8178.0</td>\n",
              "      <td>1</td>\n",
              "      <td>0</td>\n",
              "      <td>0</td>\n",
              "    </tr>\n",
              "    <tr>\n",
              "      <th>3</th>\n",
              "      <td>Крылья Советов</td>\n",
              "      <td>0</td>\n",
              "      <td>Краснодар</td>\n",
              "      <td>0</td>\n",
              "      <td>1.11</td>\n",
              "      <td>0.90</td>\n",
              "      <td>14.0</td>\n",
              "      <td>12.0</td>\n",
              "      <td>6.0</td>\n",
              "      <td>3.0</td>\n",
              "      <td>...</td>\n",
              "      <td>06:00:00</td>\n",
              "      <td>3.51</td>\n",
              "      <td>3.42</td>\n",
              "      <td>2.28</td>\n",
              "      <td>6</td>\n",
              "      <td>переменная облачность</td>\n",
              "      <td>9689.0</td>\n",
              "      <td>1</td>\n",
              "      <td>0</td>\n",
              "      <td>0</td>\n",
              "    </tr>\n",
              "    <tr>\n",
              "      <th>4</th>\n",
              "      <td>Балтика</td>\n",
              "      <td>3</td>\n",
              "      <td>ЦСКА Москва</td>\n",
              "      <td>1</td>\n",
              "      <td>1.88</td>\n",
              "      <td>1.14</td>\n",
              "      <td>13.0</td>\n",
              "      <td>18.0</td>\n",
              "      <td>4.0</td>\n",
              "      <td>7.0</td>\n",
              "      <td>...</td>\n",
              "      <td>14:30:00</td>\n",
              "      <td>2.66</td>\n",
              "      <td>3.41</td>\n",
              "      <td>2.89</td>\n",
              "      <td>20</td>\n",
              "      <td>солнечно</td>\n",
              "      <td>14046.0</td>\n",
              "      <td>1</td>\n",
              "      <td>0</td>\n",
              "      <td>1</td>\n",
              "    </tr>\n",
              "  </tbody>\n",
              "</table>\n",
              "<p>5 rows × 54 columns</p>\n",
              "</div>\n",
              "    <div class=\"colab-df-buttons\">\n",
              "\n",
              "  <div class=\"colab-df-container\">\n",
              "    <button class=\"colab-df-convert\" onclick=\"convertToInteractive('df-583bee4f-3c08-4632-a979-b1869855d50b')\"\n",
              "            title=\"Convert this dataframe to an interactive table.\"\n",
              "            style=\"display:none;\">\n",
              "\n",
              "  <svg xmlns=\"http://www.w3.org/2000/svg\" height=\"24px\" viewBox=\"0 -960 960 960\">\n",
              "    <path d=\"M120-120v-720h720v720H120Zm60-500h600v-160H180v160Zm220 220h160v-160H400v160Zm0 220h160v-160H400v160ZM180-400h160v-160H180v160Zm440 0h160v-160H620v160ZM180-180h160v-160H180v160Zm440 0h160v-160H620v160Z\"/>\n",
              "  </svg>\n",
              "    </button>\n",
              "\n",
              "  <style>\n",
              "    .colab-df-container {\n",
              "      display:flex;\n",
              "      gap: 12px;\n",
              "    }\n",
              "\n",
              "    .colab-df-convert {\n",
              "      background-color: #E8F0FE;\n",
              "      border: none;\n",
              "      border-radius: 50%;\n",
              "      cursor: pointer;\n",
              "      display: none;\n",
              "      fill: #1967D2;\n",
              "      height: 32px;\n",
              "      padding: 0 0 0 0;\n",
              "      width: 32px;\n",
              "    }\n",
              "\n",
              "    .colab-df-convert:hover {\n",
              "      background-color: #E2EBFA;\n",
              "      box-shadow: 0px 1px 2px rgba(60, 64, 67, 0.3), 0px 1px 3px 1px rgba(60, 64, 67, 0.15);\n",
              "      fill: #174EA6;\n",
              "    }\n",
              "\n",
              "    .colab-df-buttons div {\n",
              "      margin-bottom: 4px;\n",
              "    }\n",
              "\n",
              "    [theme=dark] .colab-df-convert {\n",
              "      background-color: #3B4455;\n",
              "      fill: #D2E3FC;\n",
              "    }\n",
              "\n",
              "    [theme=dark] .colab-df-convert:hover {\n",
              "      background-color: #434B5C;\n",
              "      box-shadow: 0px 1px 3px 1px rgba(0, 0, 0, 0.15);\n",
              "      filter: drop-shadow(0px 1px 2px rgba(0, 0, 0, 0.3));\n",
              "      fill: #FFFFFF;\n",
              "    }\n",
              "  </style>\n",
              "\n",
              "    <script>\n",
              "      const buttonEl =\n",
              "        document.querySelector('#df-583bee4f-3c08-4632-a979-b1869855d50b button.colab-df-convert');\n",
              "      buttonEl.style.display =\n",
              "        google.colab.kernel.accessAllowed ? 'block' : 'none';\n",
              "\n",
              "      async function convertToInteractive(key) {\n",
              "        const element = document.querySelector('#df-583bee4f-3c08-4632-a979-b1869855d50b');\n",
              "        const dataTable =\n",
              "          await google.colab.kernel.invokeFunction('convertToInteractive',\n",
              "                                                    [key], {});\n",
              "        if (!dataTable) return;\n",
              "\n",
              "        const docLinkHtml = 'Like what you see? Visit the ' +\n",
              "          '<a target=\"_blank\" href=https://colab.research.google.com/notebooks/data_table.ipynb>data table notebook</a>'\n",
              "          + ' to learn more about interactive tables.';\n",
              "        element.innerHTML = '';\n",
              "        dataTable['output_type'] = 'display_data';\n",
              "        await google.colab.output.renderOutput(dataTable, element);\n",
              "        const docLink = document.createElement('div');\n",
              "        docLink.innerHTML = docLinkHtml;\n",
              "        element.appendChild(docLink);\n",
              "      }\n",
              "    </script>\n",
              "  </div>\n",
              "\n",
              "\n",
              "<div id=\"df-01d882d4-712f-46e7-9a1c-c0600eac7852\">\n",
              "  <button class=\"colab-df-quickchart\" onclick=\"quickchart('df-01d882d4-712f-46e7-9a1c-c0600eac7852')\"\n",
              "            title=\"Suggest charts\"\n",
              "            style=\"display:none;\">\n",
              "\n",
              "<svg xmlns=\"http://www.w3.org/2000/svg\" height=\"24px\"viewBox=\"0 0 24 24\"\n",
              "     width=\"24px\">\n",
              "    <g>\n",
              "        <path d=\"M19 3H5c-1.1 0-2 .9-2 2v14c0 1.1.9 2 2 2h14c1.1 0 2-.9 2-2V5c0-1.1-.9-2-2-2zM9 17H7v-7h2v7zm4 0h-2V7h2v10zm4 0h-2v-4h2v4z\"/>\n",
              "    </g>\n",
              "</svg>\n",
              "  </button>\n",
              "\n",
              "<style>\n",
              "  .colab-df-quickchart {\n",
              "      --bg-color: #E8F0FE;\n",
              "      --fill-color: #1967D2;\n",
              "      --hover-bg-color: #E2EBFA;\n",
              "      --hover-fill-color: #174EA6;\n",
              "      --disabled-fill-color: #AAA;\n",
              "      --disabled-bg-color: #DDD;\n",
              "  }\n",
              "\n",
              "  [theme=dark] .colab-df-quickchart {\n",
              "      --bg-color: #3B4455;\n",
              "      --fill-color: #D2E3FC;\n",
              "      --hover-bg-color: #434B5C;\n",
              "      --hover-fill-color: #FFFFFF;\n",
              "      --disabled-bg-color: #3B4455;\n",
              "      --disabled-fill-color: #666;\n",
              "  }\n",
              "\n",
              "  .colab-df-quickchart {\n",
              "    background-color: var(--bg-color);\n",
              "    border: none;\n",
              "    border-radius: 50%;\n",
              "    cursor: pointer;\n",
              "    display: none;\n",
              "    fill: var(--fill-color);\n",
              "    height: 32px;\n",
              "    padding: 0;\n",
              "    width: 32px;\n",
              "  }\n",
              "\n",
              "  .colab-df-quickchart:hover {\n",
              "    background-color: var(--hover-bg-color);\n",
              "    box-shadow: 0 1px 2px rgba(60, 64, 67, 0.3), 0 1px 3px 1px rgba(60, 64, 67, 0.15);\n",
              "    fill: var(--button-hover-fill-color);\n",
              "  }\n",
              "\n",
              "  .colab-df-quickchart-complete:disabled,\n",
              "  .colab-df-quickchart-complete:disabled:hover {\n",
              "    background-color: var(--disabled-bg-color);\n",
              "    fill: var(--disabled-fill-color);\n",
              "    box-shadow: none;\n",
              "  }\n",
              "\n",
              "  .colab-df-spinner {\n",
              "    border: 2px solid var(--fill-color);\n",
              "    border-color: transparent;\n",
              "    border-bottom-color: var(--fill-color);\n",
              "    animation:\n",
              "      spin 1s steps(1) infinite;\n",
              "  }\n",
              "\n",
              "  @keyframes spin {\n",
              "    0% {\n",
              "      border-color: transparent;\n",
              "      border-bottom-color: var(--fill-color);\n",
              "      border-left-color: var(--fill-color);\n",
              "    }\n",
              "    20% {\n",
              "      border-color: transparent;\n",
              "      border-left-color: var(--fill-color);\n",
              "      border-top-color: var(--fill-color);\n",
              "    }\n",
              "    30% {\n",
              "      border-color: transparent;\n",
              "      border-left-color: var(--fill-color);\n",
              "      border-top-color: var(--fill-color);\n",
              "      border-right-color: var(--fill-color);\n",
              "    }\n",
              "    40% {\n",
              "      border-color: transparent;\n",
              "      border-right-color: var(--fill-color);\n",
              "      border-top-color: var(--fill-color);\n",
              "    }\n",
              "    60% {\n",
              "      border-color: transparent;\n",
              "      border-right-color: var(--fill-color);\n",
              "    }\n",
              "    80% {\n",
              "      border-color: transparent;\n",
              "      border-right-color: var(--fill-color);\n",
              "      border-bottom-color: var(--fill-color);\n",
              "    }\n",
              "    90% {\n",
              "      border-color: transparent;\n",
              "      border-bottom-color: var(--fill-color);\n",
              "    }\n",
              "  }\n",
              "</style>\n",
              "\n",
              "  <script>\n",
              "    async function quickchart(key) {\n",
              "      const quickchartButtonEl =\n",
              "        document.querySelector('#' + key + ' button');\n",
              "      quickchartButtonEl.disabled = true;  // To prevent multiple clicks.\n",
              "      quickchartButtonEl.classList.add('colab-df-spinner');\n",
              "      try {\n",
              "        const charts = await google.colab.kernel.invokeFunction(\n",
              "            'suggestCharts', [key], {});\n",
              "      } catch (error) {\n",
              "        console.error('Error during call to suggestCharts:', error);\n",
              "      }\n",
              "      quickchartButtonEl.classList.remove('colab-df-spinner');\n",
              "      quickchartButtonEl.classList.add('colab-df-quickchart-complete');\n",
              "    }\n",
              "    (() => {\n",
              "      let quickchartButtonEl =\n",
              "        document.querySelector('#df-01d882d4-712f-46e7-9a1c-c0600eac7852 button');\n",
              "      quickchartButtonEl.style.display =\n",
              "        google.colab.kernel.accessAllowed ? 'block' : 'none';\n",
              "    })();\n",
              "  </script>\n",
              "</div>\n",
              "    </div>\n",
              "  </div>\n"
            ],
            "application/vnd.google.colaboratory.intrinsic+json": {
              "type": "dataframe",
              "variable_name": "df"
            }
          },
          "metadata": {},
          "execution_count": 4
        }
      ]
    },
    {
      "cell_type": "code",
      "source": [
        "df.shape"
      ],
      "metadata": {
        "colab": {
          "base_uri": "https://localhost:8080/",
          "height": 0
        },
        "id": "_JB-jYkF2i8f",
        "outputId": "fa7656c0-5086-4bb5-f1f9-72e9ebf3b1ed"
      },
      "execution_count": 12,
      "outputs": [
        {
          "output_type": "execute_result",
          "data": {
            "text/plain": [
              "(208, 54)"
            ]
          },
          "metadata": {},
          "execution_count": 12
        }
      ]
    },
    {
      "cell_type": "markdown",
      "source": [
        "как видно у нас сейчас достаточно маленький датасет. Сейчас осталось сделать пару штрихов, как мы помним, нам осталось преобразовать только нашу Погоду и Команды. Для этого отлично подойдет one hot encoding. Но у нас так же есть подводный камень, дело в том, что наши даты и время все еще в непригодном для обучения состоянии. Давайте оставим от времени только часы, а колонку дата разобъем на три: год, меяц, день"
      ],
      "metadata": {
        "id": "lHOWc1-63IS9"
      }
    },
    {
      "cell_type": "code",
      "source": [
        "df_1 = df.copy()\n",
        "df_1 = pd.get_dummies(df_1, columns = ['Погода'])\n",
        "df_1['Дата'] = pd.to_datetime(df_1['Дата'])\n",
        "df_1['Год'] = df_1['Дата'].dt.year\n",
        "df_1['Месяц'] = df_1['Дата'].dt.month\n",
        "df_1['День'] = df_1['Дата'].dt.day\n",
        "df_1 = df_1.drop('Дата', axis = 1)\n",
        "df_1['Время'] = pd.to_timedelta(df_1['Время']).dt.components.hours"
      ],
      "metadata": {
        "id": "V2FKJ4TO3Gmm"
      },
      "execution_count": 5,
      "outputs": []
    },
    {
      "cell_type": "markdown",
      "source": [
        "Ну все, теперь у нас есть красивый датасет, давайте обучим на нем несколько моделей и посмотрим на аккуратность каждой"
      ],
      "metadata": {
        "id": "cpWgSKUBs83b"
      }
    },
    {
      "cell_type": "code",
      "source": [
        "df_1.info()"
      ],
      "metadata": {
        "colab": {
          "base_uri": "https://localhost:8080/",
          "height": 0
        },
        "id": "820t-b9H-0vl",
        "outputId": "612072a8-b551-4f32-d5ee-15a61c875239"
      },
      "execution_count": 6,
      "outputs": [
        {
          "output_type": "stream",
          "name": "stdout",
          "text": [
            "<class 'pandas.core.frame.DataFrame'>\n",
            "Index: 208 entries, 0 to 207\n",
            "Data columns (total 59 columns):\n",
            " #   Column                        Non-Null Count  Dtype  \n",
            "---  ------                        --------------  -----  \n",
            " 0   Команда_1                     208 non-null    object \n",
            " 1   Голы_1                        208 non-null    int64  \n",
            " 2   Команда_2                     208 non-null    object \n",
            " 3   Голы_2                        208 non-null    int64  \n",
            " 4   xG_1                          208 non-null    float64\n",
            " 5   xG_2                          208 non-null    float64\n",
            " 6   Удары_1                       208 non-null    float64\n",
            " 7   Удары_2                       208 non-null    float64\n",
            " 8   Удары в створ_1               208 non-null    float64\n",
            " 9   Удары в створ_2               208 non-null    float64\n",
            " 10  Блок-но ударов_1              208 non-null    float64\n",
            " 11  Блок-но ударов_2              208 non-null    float64\n",
            " 12  Сейвы_1                       208 non-null    float64\n",
            " 13  Сейвы_2                       208 non-null    float64\n",
            " 14  Владение %_1                  208 non-null    float64\n",
            " 15  Владение %_2                  208 non-null    float64\n",
            " 16  Угловые_1                     208 non-null    float64\n",
            " 17  Угловые_2                     208 non-null    float64\n",
            " 18  Нарушения_1                   208 non-null    float64\n",
            " 19  Нарушения_2                   208 non-null    float64\n",
            " 20  Офсайды_1                     208 non-null    float64\n",
            " 21  Офсайды_2                     208 non-null    float64\n",
            " 22  Желтые карточки_1             208 non-null    float64\n",
            " 23  Желтые карточки_2             208 non-null    float64\n",
            " 24  Красные карточки_1            208 non-null    float64\n",
            " 25  Красные карточки_2            208 non-null    float64\n",
            " 26  Атаки_1                       208 non-null    float64\n",
            " 27  Атаки_2                       208 non-null    float64\n",
            " 28  Опасные атаки_1               208 non-null    float64\n",
            " 29  Опасные атаки_2               208 non-null    float64\n",
            " 30  Передачи_1                    208 non-null    float64\n",
            " 31  Передачи_2                    208 non-null    float64\n",
            " 32  Точность передач %_1          208 non-null    float64\n",
            " 33  Точность передач %_2          208 non-null    float64\n",
            " 34  Штрафные удары_1              208 non-null    float64\n",
            " 35  Штрафные удары_2              208 non-null    float64\n",
            " 36  Вбрасывания_1                 208 non-null    float64\n",
            " 37  Вбрасывания_2                 208 non-null    float64\n",
            " 38  Навесы_1                      208 non-null    float64\n",
            " 39  Навесы_2                      208 non-null    float64\n",
            " 40  Отборы_1                      208 non-null    float64\n",
            " 41  Отборы_2                      208 non-null    float64\n",
            " 42  Раунд                         208 non-null    int64  \n",
            " 43  Время                         208 non-null    int64  \n",
            " 44  Кэф_1                         208 non-null    float64\n",
            " 45  Кэф_х                         208 non-null    float64\n",
            " 46  Кэф_2                         208 non-null    float64\n",
            " 47  Градусы                       208 non-null    int64  \n",
            " 48  Зрители                       208 non-null    float64\n",
            " 49  Дома_1                        208 non-null    int64  \n",
            " 50  Дома_2                        208 non-null    int64  \n",
            " 51  Таргет                        208 non-null    int64  \n",
            " 52  Погода_местами дождь          208 non-null    bool   \n",
            " 53  Погода_небольшой дождь        208 non-null    bool   \n",
            " 54  Погода_переменная облачность  208 non-null    bool   \n",
            " 55  Погода_солнечно               208 non-null    bool   \n",
            " 56  Год                           208 non-null    int32  \n",
            " 57  Месяц                         208 non-null    int32  \n",
            " 58  День                          208 non-null    int32  \n",
            "dtypes: bool(4), float64(42), int32(3), int64(8), object(2)\n",
            "memory usage: 89.4+ KB\n"
          ]
        }
      ]
    },
    {
      "cell_type": "markdown",
      "source": [
        "Попробуем логистическую регрессию\n",
        "Для этого закодируем последние признаки, разобъем на тестовую и обучающую выборки и немного все перемешаем.\n",
        "Так же для улучшения сходимости и качества обучения данные лучше всего нормализовать, поэтому воспользуемся стандартным скалером."
      ],
      "metadata": {
        "id": "i9V6eg9F7wJK"
      }
    },
    {
      "cell_type": "code",
      "source": [
        "from sklearn.model_selection import train_test_split\n",
        "from sklearn.preprocessing import StandardScaler\n",
        "\n",
        "df_1_encoded = pd.get_dummies(df_1, columns=['Команда_1', 'Команда_2'])\n",
        "X = df_1_encoded.drop('Таргет', axis = 1)\n",
        "y = df_1_encoded['Таргет']\n",
        "\n",
        "X_train, X_test, y_train, y_test = train_test_split(X, y, test_size=0.2, random_state=42)\n",
        "scaler = StandardScaler()\n",
        "X_train_scaled = scaler.fit_transform(X_train)\n",
        "X_test_scaled = scaler.transform(X_test)"
      ],
      "metadata": {
        "id": "5xj7RngV63gE"
      },
      "execution_count": 7,
      "outputs": []
    },
    {
      "cell_type": "markdown",
      "source": [
        "Обучим наше логистическую регрессию"
      ],
      "metadata": {
        "id": "vDC6AP0f3ugB"
      }
    },
    {
      "cell_type": "code",
      "source": [
        "from sklearn.linear_model import LogisticRegression\n",
        "from sklearn.metrics import accuracy_score\n",
        "\n",
        "model = LogisticRegression(multi_class='multinomial', solver='lbfgs', max_iter=1000)\n",
        "model.fit(X_train_scaled, y_train)\n",
        "y_pred = model.predict(X_test_scaled)\n",
        "accuracy = accuracy_score(y_test, y_pred)\n",
        "print(f\"Точность модели: {accuracy:.2f}\")"
      ],
      "metadata": {
        "id": "HCKw8gUg-kSL"
      },
      "execution_count": null,
      "outputs": []
    },
    {
      "cell_type": "markdown",
      "source": [
        "Теперь для сравнения обучим линейную регрессию с RMSE. Конечно, даже не обучая можно сказать, что это достаточно плохой выбор, потому что она предназначена для предсказания неприрывных значений, плюс признаков для нее многовато. Давайте в этом убедимся."
      ],
      "metadata": {
        "id": "0QjwWe9xG0bs"
      }
    },
    {
      "cell_type": "code",
      "source": [
        "from sklearn.linear_model import LinearRegression\n",
        "from sklearn.metrics import mean_squared_error\n",
        "import numpy as np\n",
        "\n",
        "linear_model = LinearRegression()\n",
        "linear_model.fit(X_train_scaled, y_train)\n",
        "y_pred = linear_model.predict(X_test_scaled)\n",
        "rmse = np.sqrt(mean_squared_error(y_test, y_pred))\n",
        "print(f\"RMSE модели: {rmse:.2f}\")"
      ],
      "metadata": {
        "colab": {
          "base_uri": "https://localhost:8080/",
          "height": 0
        },
        "id": "7WgH9l6TvXIL",
        "outputId": "13315409-202c-4210-eaf5-1fd640640984"
      },
      "execution_count": 9,
      "outputs": [
        {
          "output_type": "stream",
          "name": "stdout",
          "text": [
            "RMSE модели: 0.99\n"
          ]
        }
      ]
    },
    {
      "cell_type": "code",
      "source": [
        "y_pred_rounded = np.round(y_pred).astype(int)\n",
        "accuracy = np.mean(y_pred_rounded == y_test)\n",
        "print(f\"Приближенная точность модели: {accuracy:.2f}\")\n"
      ],
      "metadata": {
        "colab": {
          "base_uri": "https://localhost:8080/",
          "height": 0
        },
        "id": "4wmcT8aUvfM2",
        "outputId": "bafa5aed-68f5-406d-d84f-6aa47fff7d8e"
      },
      "execution_count": 10,
      "outputs": [
        {
          "output_type": "stream",
          "name": "stdout",
          "text": [
            "Приближенная точность модели: 0.36\n"
          ]
        }
      ]
    },
    {
      "cell_type": "markdown",
      "source": [
        "Теперь так же для сравнения посмотрим на результаты модели случайного леса. Возьмем, например, 100 обучающих деревьев и посмотрим на аккуратность. Перемешивать не будем во второй раз, мы уже сделали это раньше, когда подготавливали данные."
      ],
      "metadata": {
        "id": "xtL6yquwHrD6"
      }
    },
    {
      "cell_type": "code",
      "source": [
        "from sklearn.ensemble import RandomForestClassifier\n",
        "from sklearn.metrics import accuracy_score\n",
        "\n",
        "model = RandomForestClassifier(n_estimators=100)  # n_estimators - количество деревьев\n",
        "model.fit(X_train_scaled, y_train)\n",
        "y_pred = model.predict(X_test_scaled)\n",
        "accuracy = accuracy_score(y_test, y_pred)\n",
        "print(f'Точность модели: {accuracy:.2f}')\n"
      ],
      "metadata": {
        "colab": {
          "base_uri": "https://localhost:8080/",
          "height": 0
        },
        "id": "k1DieU_zE1zN",
        "outputId": "bb00c08d-b58a-47e4-a27d-300368d8c830"
      },
      "execution_count": 13,
      "outputs": [
        {
          "output_type": "stream",
          "name": "stdout",
          "text": [
            "Точность модели: 0.71\n"
          ]
        }
      ]
    },
    {
      "cell_type": "markdown",
      "source": [
        "Как видно из наших примеров, лучше всего с задачей справились наши деревья, логистическая регрессия показала достойный результат, а вот линейная регрессия совсем плоха.\n",
        "Но и это не конечный результат, можно попробовать подобрать другие парметры для обучения, увеличить количество данных, обучить не на всех параметрах, по другому их располагать, протестировать другие модели и тд."
      ],
      "metadata": {
        "id": "i3XfW4qe-fDV"
      }
    }
  ]
}